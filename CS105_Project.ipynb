{
 "cells": [
  {
   "cell_type": "markdown",
   "metadata": {},
   "source": [
    "# CS105 Survey\n",
    "Members: John Huh, Emily Mai, Calvin Ng"
   ]
  },
  {
   "cell_type": "markdown",
   "metadata": {},
   "source": [
    "# Data Pre-processing"
   ]
  },
  {
   "cell_type": "code",
   "execution_count": 256,
   "metadata": {},
   "outputs": [],
   "source": [
    "# import necessary libraries\n",
    "import json\n",
    "import pandas as pd\n",
    "import numpy as np\n",
    "from tqdm import tqdm\n",
    "import tensorflow as tf\n",
    "import tensorflow_hub as hub\n",
    "import itertools\n",
    "import matplotlib.pyplot as plt\n",
    "import seaborn as sns\n",
    "from sklearn import metrics\n",
    "from sklearn.mixture import GaussianMixture\n",
    "from sklearn.cluster import DBSCAN\n",
    "from sklearn.manifold import TSNE\n",
    "from sklearn.neighbors import LocalOutlierFactor\n",
    "import umap\n",
    "from nltk.corpus import stopwords\n",
    "from nltk.cluster.util import cosine_distance\n",
    "import networkx as nx\n",
    "%matplotlib inline"
   ]
  },
  {
   "cell_type": "code",
   "execution_count": 2,
   "metadata": {},
   "outputs": [],
   "source": [
    "# load the data\n",
    "def load_data(start=0, end=10000, path=\"data/yelp_academic_dataset_review.json\"):\n",
    "    datafile = open(path, encoding='utf-8')\n",
    "    data = []\n",
    "    for i, line in tqdm(enumerate(datafile)):\n",
    "        if i in list(range(start, end)):\n",
    "            data.append(json.loads(line))\n",
    "        if i > end:\n",
    "            break\n",
    "    datafile.close()\n",
    "    df = pd.DataFrame(data)\n",
    "    return df"
   ]
  },
  {
   "cell_type": "markdown",
   "metadata": {},
   "source": [
    "# Text Embedding"
   ]
  },
  {
   "cell_type": "code",
   "execution_count": 3,
   "metadata": {},
   "outputs": [],
   "source": [
    "# function to embedd the reviews\n",
    "def load_embeddings(dataframe, column):\n",
    "    embed = hub.load(\"https://tfhub.dev/google/universal-sentence-encoder/4\")\n",
    "    messages = np.asarray(dataframe[column])\n",
    "    tensor_list = tf.convert_to_tensor(messages)\n",
    "    embeddings = np.array(embed(tensor_list)).tolist()\n",
    "    # return the reviews followed by their respective embeddings\n",
    "    return messages, embeddings\n",
    "\n",
    "# function to show the embeddings\n",
    "def show_embeddings(n, reviews, embeddings):\n",
    "    # print first n review embeddings\n",
    "    for i, message_embedding in enumerate(embeddings[:n]):\n",
    "        print(\"Message: {}\".format(reviews[i]))\n",
    "        print(\"Embedding size: {}\".format(len(message_embedding)))\n",
    "        message_embedding_snippet = \", \".join(\n",
    "            (str(x) for x in message_embedding[:3]))\n",
    "        print(\"Embedding: [{}, ...]\\n\".format(message_embedding_snippet))"
   ]
  },
  {
   "cell_type": "markdown",
   "metadata": {},
   "source": [
    "# Batch Processing"
   ]
  },
  {
   "cell_type": "code",
   "execution_count": 358,
   "metadata": {},
   "outputs": [
    {
     "data": {
      "text/html": [
       "<div>\n",
       "<style scoped>\n",
       "    .dataframe tbody tr th:only-of-type {\n",
       "        vertical-align: middle;\n",
       "    }\n",
       "\n",
       "    .dataframe tbody tr th {\n",
       "        vertical-align: top;\n",
       "    }\n",
       "\n",
       "    .dataframe thead th {\n",
       "        text-align: right;\n",
       "    }\n",
       "</style>\n",
       "<table border=\"1\" class=\"dataframe\">\n",
       "  <thead>\n",
       "    <tr style=\"text-align: right;\">\n",
       "      <th></th>\n",
       "      <th>review_id</th>\n",
       "      <th>user_id</th>\n",
       "      <th>business_id</th>\n",
       "      <th>stars</th>\n",
       "      <th>useful</th>\n",
       "      <th>funny</th>\n",
       "      <th>cool</th>\n",
       "      <th>text</th>\n",
       "      <th>date</th>\n",
       "      <th>embedding</th>\n",
       "    </tr>\n",
       "  </thead>\n",
       "  <tbody>\n",
       "    <tr>\n",
       "      <th>0</th>\n",
       "      <td>lWC-xP3rd6obsecCYsGZRg</td>\n",
       "      <td>ak0TdVmGKo4pwqdJSTLwWw</td>\n",
       "      <td>buF9druCkbuXLX526sGELQ</td>\n",
       "      <td>4.0</td>\n",
       "      <td>3</td>\n",
       "      <td>1</td>\n",
       "      <td>1</td>\n",
       "      <td>Apparently Prides Osteria had a rough summer a...</td>\n",
       "      <td>2014-10-11 03:34:02</td>\n",
       "      <td>[-0.018010487779974937, -0.050318099558353424,...</td>\n",
       "    </tr>\n",
       "    <tr>\n",
       "      <th>1</th>\n",
       "      <td>8bFej1QE5LXp4O05qjGqXA</td>\n",
       "      <td>YoVfDbnISlW0f7abNQACIg</td>\n",
       "      <td>RA4V8pr014UyUbDvI-LW2A</td>\n",
       "      <td>4.0</td>\n",
       "      <td>1</td>\n",
       "      <td>0</td>\n",
       "      <td>0</td>\n",
       "      <td>This store is pretty good. Not as great as Wal...</td>\n",
       "      <td>2015-07-03 20:38:25</td>\n",
       "      <td>[-0.04308006912469864, -0.019955946132540703, ...</td>\n",
       "    </tr>\n",
       "    <tr>\n",
       "      <th>2</th>\n",
       "      <td>NDhkzczKjLshODbqDoNLSg</td>\n",
       "      <td>eC5evKn1TWDyHCyQAwguUw</td>\n",
       "      <td>_sS2LBIGNT5NQb6PD1Vtjw</td>\n",
       "      <td>5.0</td>\n",
       "      <td>0</td>\n",
       "      <td>0</td>\n",
       "      <td>0</td>\n",
       "      <td>I called WVM on the recommendation of a couple...</td>\n",
       "      <td>2013-05-28 20:38:06</td>\n",
       "      <td>[-0.01958566904067993, -0.04187788814306259, -...</td>\n",
       "    </tr>\n",
       "    <tr>\n",
       "      <th>3</th>\n",
       "      <td>T5fAqjjFooT4V0OeZyuk1w</td>\n",
       "      <td>SFQ1jcnGguO0LYWnbbftAA</td>\n",
       "      <td>0AzLzHfOJgL7ROwhdww2ew</td>\n",
       "      <td>2.0</td>\n",
       "      <td>1</td>\n",
       "      <td>1</td>\n",
       "      <td>1</td>\n",
       "      <td>I've stayed at many Marriott and Renaissance M...</td>\n",
       "      <td>2010-01-08 02:29:15</td>\n",
       "      <td>[-0.044252898544073105, -0.07447142153978348, ...</td>\n",
       "    </tr>\n",
       "    <tr>\n",
       "      <th>4</th>\n",
       "      <td>sjm_uUcQVxab_EeLCqsYLg</td>\n",
       "      <td>0kA0PAJ8QFMeveQWHFqz2A</td>\n",
       "      <td>8zehGz9jnxPqXtOc7KaJxA</td>\n",
       "      <td>4.0</td>\n",
       "      <td>0</td>\n",
       "      <td>0</td>\n",
       "      <td>0</td>\n",
       "      <td>The food is always great here. The service fro...</td>\n",
       "      <td>2011-07-28 18:05:01</td>\n",
       "      <td>[0.013128811493515968, -0.01807524263858795, 0...</td>\n",
       "    </tr>\n",
       "  </tbody>\n",
       "</table>\n",
       "</div>"
      ],
      "text/plain": [
       "                review_id                 user_id             business_id  \\\n",
       "0  lWC-xP3rd6obsecCYsGZRg  ak0TdVmGKo4pwqdJSTLwWw  buF9druCkbuXLX526sGELQ   \n",
       "1  8bFej1QE5LXp4O05qjGqXA  YoVfDbnISlW0f7abNQACIg  RA4V8pr014UyUbDvI-LW2A   \n",
       "2  NDhkzczKjLshODbqDoNLSg  eC5evKn1TWDyHCyQAwguUw  _sS2LBIGNT5NQb6PD1Vtjw   \n",
       "3  T5fAqjjFooT4V0OeZyuk1w  SFQ1jcnGguO0LYWnbbftAA  0AzLzHfOJgL7ROwhdww2ew   \n",
       "4  sjm_uUcQVxab_EeLCqsYLg  0kA0PAJ8QFMeveQWHFqz2A  8zehGz9jnxPqXtOc7KaJxA   \n",
       "\n",
       "   stars  useful  funny  cool  \\\n",
       "0    4.0       3      1     1   \n",
       "1    4.0       1      0     0   \n",
       "2    5.0       0      0     0   \n",
       "3    2.0       1      1     1   \n",
       "4    4.0       0      0     0   \n",
       "\n",
       "                                                text                 date  \\\n",
       "0  Apparently Prides Osteria had a rough summer a...  2014-10-11 03:34:02   \n",
       "1  This store is pretty good. Not as great as Wal...  2015-07-03 20:38:25   \n",
       "2  I called WVM on the recommendation of a couple...  2013-05-28 20:38:06   \n",
       "3  I've stayed at many Marriott and Renaissance M...  2010-01-08 02:29:15   \n",
       "4  The food is always great here. The service fro...  2011-07-28 18:05:01   \n",
       "\n",
       "                                           embedding  \n",
       "0  [-0.018010487779974937, -0.050318099558353424,...  \n",
       "1  [-0.04308006912469864, -0.019955946132540703, ...  \n",
       "2  [-0.01958566904067993, -0.04187788814306259, -...  \n",
       "3  [-0.044252898544073105, -0.07447142153978348, ...  \n",
       "4  [0.013128811493515968, -0.01807524263858795, 0...  "
      ]
     },
     "execution_count": 358,
     "metadata": {},
     "output_type": "execute_result"
    }
   ],
   "source": [
    "# function to process batches of the data\n",
    "def batch_process(step=10000, stop=50000):\n",
    "    review_df = pd.DataFrame()\n",
    "    # generate ranges (i.e. [(0,1000), (1000,2000), ...]\n",
    "    batches = [(n, min(n + step, stop)) for n in range(0, stop, step)]\n",
    "    for s, e in batches:\n",
    "        print(\"Processing {}:{}...\".format(s, e))\n",
    "        # load data and embeddings\n",
    "        df = load_data(s, e)\n",
    "        text, embeddings = load_embeddings(df, \"text\")\n",
    "        # store embeddings in dataframe\n",
    "        df[\"embedding\"] = embeddings\n",
    "        # add new embeddings to main dataframe\n",
    "        review_df = pd.concat([review_df, df], ignore_index=True, sort=False)\n",
    "\n",
    "    # save to pickle file to avoid reprocessing of embeddings\n",
    "    review_df.to_pickle(\"data/data.pkl\")\n",
    "    print(review_df)\n",
    "\n",
    "\n",
    "# batch_process()\n",
    "\n",
    "# if you have the pkl file just run this:\n",
    "review_df = pd.read_pickle(\"data/data.pkl\")\n",
    "review_df.head()"
   ]
  },
  {
   "cell_type": "markdown",
   "metadata": {},
   "source": [
    "# Exploratory Data Analysis (EDA)"
   ]
  },
  {
   "cell_type": "code",
   "execution_count": 376,
   "metadata": {
    "scrolled": false
   },
   "outputs": [
    {
     "name": "stdout",
     "output_type": "stream",
     "text": [
      "Total number of Review per Restaurant\n"
     ]
    },
    {
     "data": {
      "text/plain": [
       "bZiIIUcpgxh8mpKMDhdqbA    366\n",
       "H_RM2u1WWGU1HkKZrYq2Ow    295\n",
       "jREzLrIEkc4jQKLfYMJ0gg    184\n",
       "VPqWLp9kMiZEbctCebIZUA    180\n",
       "oz882XuZCxajKo64Opgq_Q    180\n",
       "                         ... \n",
       "_EbOP_aB6yVh9ORw6nvnRg      1\n",
       "Vy936nz51mtKpVp-8VZtvw      1\n",
       "w8bhTx63qPuE905UyB70Hw      1\n",
       "EzyEb4MvMUuxAF5xaalNPQ      1\n",
       "qQzsCfDBprrJTk5Ij_ZN6Q      1\n",
       "Name: business_id, Length: 9032, dtype: int64"
      ]
     },
     "metadata": {},
     "output_type": "display_data"
    },
    {
     "name": "stdout",
     "output_type": "stream",
     "text": [
      "Average star received for most reviewed restaurant: 4.26775956284153\n"
     ]
    },
    {
     "data": {
      "text/plain": [
       "Text(0, 0.5, 'Total number of Stars')"
      ]
     },
     "execution_count": 376,
     "metadata": {},
     "output_type": "execute_result"
    },
    {
     "data": {
      "image/png": "[encoded data removed]",
      "text/plain": [
       "<Figure size 504x504 with 1 Axes>"
      ]
     },
     "metadata": {
      "needs_background": "light"
     },
     "output_type": "display_data"
    }
   ],
   "source": [
    "# calculate total reviews per restaurant using business_id\n",
    "total_reviews = review_df[\"business_id\"].value_counts()\n",
    "print(\"Total number of Review per Restaurant\")\n",
    "display(total_reviews)\n",
    "\n",
    "# find most popular restaurant based on reviews\n",
    "mostpopRest = review_df.loc[(review_df['business_id'] == 'bZiIIUcpgxh8mpKMDhdqbA')]\n",
    "\n",
    "# calculate total stars and avg. star for most popular restaurant\n",
    "revDist = mostpopRest['stars'].value_counts()\n",
    "revMean = mostpopRest['stars'].mean()\n",
    "print(\"Average star received for most reviewed restaurant: {}\".format(revMean))\n",
    "\n",
    "# plot distribution of number of stars\n",
    "plot = revDist.plot(kind='bar', figsize=(7, 7),title=\"Total number of stars received by a restaurant\")\n",
    "plot.set_xlabel(\"Stars\")\n",
    "plot.set_ylabel(\"Total number of Stars\")"
   ]
  },
  {
   "cell_type": "code",
   "execution_count": 377,
   "metadata": {},
   "outputs": [
    {
     "name": "stdout",
     "output_type": "stream",
     "text": [
      "jbEEMwW0gjCfuc1qRmXtmA    1\n",
      "ACCp4HzHfkleU9I8ynb5qg    1\n",
      "p2PpidC2QHa9KVGVAVcxzA    1\n",
      "wPJPd8yB5PCnjAGg3WLAtg    1\n",
      "cEiMXQHs7j-tUCxXNoGEXQ    1\n",
      "                         ..\n",
      "coKnuxLznH0FHb34m4ZLCw    1\n",
      "PluuoC0vKMq_159qjFiR-A    1\n",
      "3ZZpqh6A0z-SHNQNSqS_UA    1\n",
      "omHM2jCXBoy5k9oMTdJRSg    1\n",
      "eXno8ExEyqA0k0V_enxFEA    1\n",
      "Name: user_id, Length: 366, dtype: int64\n"
     ]
    }
   ],
   "source": [
    "# calculate how requent a user leaves a review\n",
    "freqRev = mostpopRest['user_id'].value_counts()\n",
    "print(freqRev)"
   ]
  },
  {
   "cell_type": "code",
   "execution_count": 378,
   "metadata": {},
   "outputs": [
    {
     "data": {
      "text/plain": [
       "<AxesSubplot:xlabel='date', ylabel='stars'>"
      ]
     },
     "execution_count": 378,
     "metadata": {},
     "output_type": "execute_result"
    },
    {
     "data": {
      "image/png": "[encoded data removed]",
      "text/plain": [
       "<Figure size 504x504 with 1 Axes>"
      ]
     },
     "metadata": {
      "needs_background": "light"
     },
     "output_type": "display_data"
    }
   ],
   "source": [
    "# generate graph for rating over time\n",
    "timeSP = mostpopRest.set_index(pd.DatetimeIndex(mostpopRest['date']))\n",
    "timeSP.plot.scatter(x='date', y='stars', figsize=(7, 7))"
   ]
  },
  {
   "cell_type": "markdown",
   "metadata": {},
   "source": [
    "# Reviews Clustering"
   ]
  },
  {
   "cell_type": "code",
   "execution_count": 334,
   "metadata": {},
   "outputs": [],
   "source": [
    "# clustering using Gaussian Mixture Models\n",
    "# grid search hyper-parameters and return best model and scores\n",
    "def gmm_model_selection(n_clusters, X):\n",
    "    lowest_bic = np.infty\n",
    "    bic = []\n",
    "    assert X.shape[0] >= n_clusters\n",
    "#     cv_types = ['spherical', 'tied', 'diag', 'full']\n",
    "#     for cv_type in cv_types:\n",
    "    cv_type = 'diag'\n",
    "    for k in range(1, n_clusters):\n",
    "        # Fit a Gaussian mixture with EM\n",
    "        gmm = GaussianMixture(n_components=k, covariance_type=cv_type)\n",
    "        gmm.fit(X)\n",
    "        bic.append(gmm.bic(X))\n",
    "        if bic[-1] < lowest_bic:\n",
    "            lowest_bic = bic[-1]\n",
    "            best_gmm = gmm\n",
    "    print(\"Num components chosen by GMM: {}\".format(best_gmm.n_components))\n",
    "    return best_gmm, bic\n",
    "\n",
    "# clustering using DBSCAN\n",
    "# grid search hyper-parameters and return best model and scores\n",
    "def dbscan_model_selection(X):\n",
    "    lowest_ss = np.infty\n",
    "    scores = []\n",
    "    for epsilon in [0.85, 0.9, .95, 1]:\n",
    "        score_row = []\n",
    "        for min_samples in [3, 5, 7, 9]:\n",
    "            db = DBSCAN(eps=epsilon, min_samples=min_samples).fit(X)\n",
    "            labels = db.labels_\n",
    "            score_row.append(metrics.silhouette_score(X, labels))\n",
    "            if score_row[-1] < lowest_ss:\n",
    "                lowest_ss = score_row[-1]\n",
    "                best_db = db\n",
    "        scores.append(score_row)\n",
    "    labels = best_db.labels_\n",
    "    n_clusters_ = len(set(labels)) - (1 if -1 in labels else 0)\n",
    "    n_noise_ = list(labels).count(-1)\n",
    "    return best_db, np.array(scores)\n",
    "\n",
    "# visualization for clusters\n",
    "def plot_tsne(gmm, X, Y, messages):\n",
    "    # dimensionality reduction\n",
    "    x_reduced = TSNE(n_components=2).fit_transform(X)\n",
    "\n",
    "    # plot points and their respective colors according to cluster\n",
    "    color_iter = iter([plt.cm.tab20(i) for i in range(20)])\n",
    "#     color_iter = itertools.cycle(['lightblue', 'lightgreen', 'darkorange', 'grey', 'purple', 'darkgreen', 'darkblue','darkred','pink'])\n",
    "    for i, mean in enumerate(gmm.means_):\n",
    "        if not np.any(Y == i):\n",
    "            continue\n",
    "        plt.scatter(x_reduced[Y == i, 0], x_reduced[Y == i, 1], 8, color=next(color_iter))\n",
    "    csr = mplcursors.cursor(hover=True)\n",
    "    csr.connect(\"add\", lambda sel: sel.annotation.set_text(messages[sel.target.index]))\n",
    "    plt.xticks(())\n",
    "    plt.yticks(())\n",
    "    plt.title(f'Selected GMM: {gmm.covariance_type} model, 'f'{gmm.n_components} components')\n",
    "    plt.show()"
   ]
  },
  {
   "cell_type": "code",
   "execution_count": 342,
   "metadata": {},
   "outputs": [],
   "source": [
    "# load data for one business\n",
    "data = pd.read_pickle(\"data/data.pkl\")\n",
    "data = data[data[\"business_id\"] == \"bZiIIUcpgxh8mpKMDhdqbA\"]\n",
    "X = np.array(data[\"embedding\"].tolist())\n",
    "# X = TSNE(n_components=2).fit_transform(X)\n",
    "X = umap.UMAP(n_components=10).fit_transform(X)"
   ]
  },
  {
   "cell_type": "code",
   "execution_count": 343,
   "metadata": {},
   "outputs": [
    {
     "name": "stdout",
     "output_type": "stream",
     "text": [
      "Num components chosen by GMM: 15\n"
     ]
    },
    {
     "data": {
      "image/png": "[encoded data removed]",
      "text/plain": [
       "<Figure size 432x288 with 1 Axes>"
      ]
     },
     "metadata": {
      "needs_background": "light"
     },
     "output_type": "display_data"
    }
   ],
   "source": [
    "# run once to get best model using GMMs\n",
    "best_gmm, bic = gmm_model_selection(20, X)\n",
    "plt.title(f'Selected GMM: {best_gmm.covariance_type} model, 'f'{best_gmm.n_components} components')\n",
    "plt.plot(np.arange(1,20), bic)\n",
    "plt.xlabel(\"n_components\") \n",
    "plt.ylabel(\"BIC\") \n",
    "plt.show()\n",
    "\n",
    "# run once to get best model using DBSCAN\n",
    "# best_db, scores = dbscan_model_selection(X)\n",
    "# labels = best_db.labels_\n",
    "# n_clusters_ = len(set(labels)) - (1 if -1 in labels else 0)\n",
    "# n_noise_ = list(labels).count(-1)\n",
    "\n",
    "# plt.title('Selected DBSCAN: epsilon={}, min_samples={}, {} components, {} outliers'.format(best_db.eps,best_db.min_samples,n_clusters_,n_noise_))\n",
    "# ax = sns.heatmap(scores, linewidth=0.3, xticklabels=[3, 5, 7, 9], yticklabels=[0.85, 0.9, .95, 1])\n",
    "# plt.xlabel(\"min_samples\") \n",
    "# plt.ylabel(\"epsilon\") \n",
    "# plt.show()"
   ]
  },
  {
   "cell_type": "code",
   "execution_count": 344,
   "metadata": {},
   "outputs": [
    {
     "name": "stdout",
     "output_type": "stream",
     "text": [
      "Initialization 0\n",
      "  Iteration 10\t time lapse 0.06300s\t ll change 0.00022\n",
      "  Iteration 20\t time lapse 0.02200s\t ll change 0.00007\n",
      "Initialization converged: True\t time lapse 0.09300s\t ll 0.52865\n"
     ]
    }
   ],
   "source": [
    "# fit and predict GMM on data\n",
    "model = GaussianMixture(n_components=15, covariance_type='diag', tol=1e-6, max_iter=10000, verbose=2)\n",
    "best_gmm = model.fit(X)\n",
    "Y = best_gmm.predict(X)  # contains generated cluster labels"
   ]
  },
  {
   "cell_type": "markdown",
   "metadata": {},
   "source": [
    "# Anomaly Detection"
   ]
  },
  {
   "cell_type": "code",
   "execution_count": 126,
   "metadata": {},
   "outputs": [],
   "source": [
    "def gmm_anomalies(data, posterior, threshold):\n",
    "    max_posterior = np.amax(posterior, axis=1)\n",
    "    indices = np.argwhere(max_posterior < threshold).flatten()\n",
    "    anomalies = data[\"text\"].take(indices)\n",
    "    return anomalies\n",
    "\n",
    "def lof_anomalies(data, X):\n",
    "    model = LocalOutlierFactor(contamination=0.01, n_neighbors=5, metric=\"l2\")\n",
    "    outlier_scores = model.fit_predict(X)\n",
    "    print(model.negative_outlier_factor_[outlier_scores == -1])\n",
    "    anomalies = data[outlier_scores == -1]\n",
    "    return anomalies[\"text\"]\n",
    "\n",
    "def dbscan_anomalies(labels):\n",
    "    indices = np.argwhere(labels == -1).flatten()\n",
    "    anomalies = data[\"text\"].take(indices)\n",
    "    return anomalies"
   ]
  },
  {
   "cell_type": "code",
   "execution_count": 345,
   "metadata": {},
   "outputs": [
    {
     "data": {
      "image/png": "[encoded data removed]",
      "text/plain": [
       "<Figure size 432x288 with 1 Axes>"
      ]
     },
     "metadata": {},
     "output_type": "display_data"
    }
   ],
   "source": [
    "# X = umap.UMAP(n_components=4).fit_transform(X)\n",
    "# anomalies = gmm_anomalies(data, best_gmm.predict_proba(X), 0.99)\n",
    "# anomalies = dbscan_anomalies(labels)\n",
    "# print(anomalies)\n",
    "# print(lof_anomalies(data,X))\n",
    "\n",
    "# generate plot using TSNE\n",
    "plot_tsne(best_gmm, X, Y, data[\"text\"])"
   ]
  },
  {
   "cell_type": "code",
   "execution_count": 346,
   "metadata": {
    "scrolled": false
   },
   "outputs": [],
   "source": [
    "texts = data[\"text\"].take(np.argwhere(Y==6).flatten())\n",
    "stars = data[\"stars\"].take(np.argwhere(Y==6).flatten())\n",
    "\n",
    "# for t,s in zip(texts,stars):\n",
    "#     print(\"START--------------------\")\n",
    "#     print(s, t)\n",
    "#     print(\"END----------------------\\n\")"
   ]
  },
  {
   "cell_type": "markdown",
   "metadata": {},
   "source": [
    "# Cluster Summarization"
   ]
  },
  {
   "cell_type": "code",
   "execution_count": 316,
   "metadata": {},
   "outputs": [],
   "source": [
    "def read_article(texts):\n",
    "    combined_text = ' '.join(texts)\n",
    "    reviews = combined_text.split(\". \")\n",
    "    sentences = []\n",
    "    for sentence in reviews:\n",
    "        sentences.append(sentence.replace(\"[^a-zA-Z]\", \" \").split(\" \"))\n",
    "    return sentences\n",
    "\n",
    "def sentence_similarity(sent1, sent2, stopwords=None):\n",
    "    if stopwords is None:\n",
    "        stopwords = []\n",
    " \n",
    "    sent1 = [w.lower() for w in sent1]\n",
    "    sent2 = [w.lower() for w in sent2]\n",
    " \n",
    "    all_words = list(set(sent1 + sent2))\n",
    " \n",
    "    vector1 = [0] * len(all_words)\n",
    "    vector2 = [0] * len(all_words)\n",
    " \n",
    "    # build the vector for the first sentence\n",
    "    for w in sent1:\n",
    "        if w in stopwords:\n",
    "            continue\n",
    "        vector1[all_words.index(w)] += 1\n",
    " \n",
    "    # build the vector for the second sentence\n",
    "    for w in sent2:\n",
    "        if w in stopwords:\n",
    "            continue\n",
    "        vector2[all_words.index(w)] += 1\n",
    " \n",
    "    return 1 - cosine_distance(vector1, vector2)\n",
    "\n",
    "def build_similarity_matrix(sentences, stop_words):\n",
    "    # Create an empty similarity matrix\n",
    "    similarity_matrix = np.zeros((len(sentences), len(sentences)))\n",
    " \n",
    "    for idx1 in range(len(sentences)):\n",
    "        for idx2 in range(len(sentences)):\n",
    "            if idx1 == idx2: #ignore if both are same sentences\n",
    "                continue \n",
    "            similarity_matrix[idx1][idx2] = sentence_similarity(sentences[idx1], sentences[idx2], stop_words)\n",
    "    return similarity_matrix\n",
    "\n",
    "def generate_summary(texts, top_n=5):\n",
    "    stop_words = stopwords.words('english')\n",
    "    summarize_text = []\n",
    "    # Step 1 - Read text and tokenize\n",
    "    sentences =  read_article(texts)\n",
    "    # Step 2 - Generate Similary Martix across sentences\n",
    "    sentence_similarity_martix = build_similarity_matrix(sentences, stop_words)\n",
    "    # Step 3 - Rank sentences in similarity martix\n",
    "    sentence_similarity_graph = nx.from_numpy_array(sentence_similarity_martix)\n",
    "    scores = nx.pagerank(sentence_similarity_graph, max_iter=100)\n",
    "    # Step 4 - Sort the rank and pick top sentences\n",
    "    ranked_sentence = sorted(((scores[i],s) for i,s in enumerate(sentences)), reverse=True)    \n",
    "#     print(\"Indexes of top ranked_sentence order are \", ranked_sentence)\n",
    "    for i in range(top_n):\n",
    "        summarize_text.append(\" \".join(ranked_sentence[i][1]))\n",
    "        # Step 5 - Offcourse, output the summarize texr\n",
    "    return \". \".join(summarize_text)"
   ]
  },
  {
   "cell_type": "code",
   "execution_count": 351,
   "metadata": {},
   "outputs": [
    {
     "name": "stdout",
     "output_type": "stream",
     "text": [
      "Cluster 0: 29 reviews and avg. rating of 4.620689655172414:\n",
      "Cluster 1: 21 reviews and avg. rating of 4.380952380952381:\n",
      "Cluster 2: 16 reviews and avg. rating of 2.875:\n",
      "Cluster 3: 19 reviews and avg. rating of 3.736842105263158:\n",
      "Cluster 4: 31 reviews and avg. rating of 4.387096774193548:\n",
      "Cluster 5: 46 reviews and avg. rating of 4.413043478260869:\n",
      "Cluster 6: 31 reviews and avg. rating of 4.387096774193548:\n",
      "Cluster 7: 21 reviews and avg. rating of 4.523809523809524:\n",
      "Cluster 8: 38 reviews and avg. rating of 4.5:\n",
      "Cluster 9: 9 reviews and avg. rating of 2.7777777777777777:\n",
      "Cluster 10: 32 reviews and avg. rating of 4.21875:\n",
      "Cluster 11: 20 reviews and avg. rating of 4.35:\n",
      "Cluster 12: 14 reviews and avg. rating of 4.285714285714286:\n",
      "Cluster 13: 18 reviews and avg. rating of 4.444444444444445:\n",
      "Cluster 14: 21 reviews and avg. rating of 4.333333333333333:\n"
     ]
    }
   ],
   "source": [
    "for c in range(15):\n",
    "    indices = np.argwhere(Y == c).flatten()\n",
    "    mean = data[\"stars\"].take(indices).sum() / len(indices)\n",
    "    print(\"Cluster {}: {} reviews and avg. rating of {}:\".format(c, len(indices), mean))"
   ]
  },
  {
   "cell_type": "code",
   "execution_count": 356,
   "metadata": {},
   "outputs": [
    {
     "name": "stdout",
     "output_type": "stream",
     "text": [
      "Summary of cluster 9, avg. rating=2.77\n",
      " It's certainly not something I'd wait in line for.  I wouldn't wait an hour for an above average burger ever.  Was it the best burger I have had in my entire life?  No. I even watched a lady pass out from the heat!\n",
      "\n",
      "\n",
      " The burger is good but not a 3 1/2 hour wait kinda burger.  Congrats. Cannot believe all the idiots who wait in line for this place ~ what is the big deal ? I found the burger nice and tasty but I don't see what all the fuss is about. The wait time is crazy 3 1/2 hours!!! They need to develop a better system than to have people wait in line.  I just don't like the idea that I may die of starvation waiting in line :( Nothing special here, It was alright\n",
      "Summary of cluster 0, avg. rating=4.62\n",
      " \n",
      "If you're like me and get tired of American food quickly, you can still grub here and love it!  The fries were on point, the burger was on point and the beer was on point!\n",
      "\n",
      "What more could you ask for?  Hop in your car and go to Hopdoddy's! We love this burger bar! My favorites are the truffle fries and margaritas! The rest of my family loves the milkshakes.   Poblano burger very good.  Classic burger so good.  Also, the Parmesan Truffle fries are to die for!  My family & I love this place!!! Best burger joint I went to Texas.  Hopdoddy and IN-N-OUT are the best burger places ever.\n",
      "Best burgers in Austin!!! \n",
      "Get the chili cheese fries they are magical!! \n",
      "Every burger is cooked perfectly and the buns are really good.  Sunrise burger delicious.   Had to try the prime time burger.  \n",
      "\n",
      "The truffle fries & chile con queso fries were awesome! My Favorite Burger of all time!!  We have lived in many different places, & of all the places & burgers, this place is Worth the Wait in line (which there is always a line!)\n"
     ]
    }
   ],
   "source": [
    "print(\"Summary of cluster 9, avg. rating=2.77\")\n",
    "cluster_text = data[\"text\"].take(np.argwhere(Y==9).flatten()).tolist()\n",
    "summary = generate_summary(cluster_text, top_n=8)\n",
    "print(summary)\n",
    "\n",
    "print(\"Summary of cluster 0, avg. rating=4.62\")\n",
    "cluster_text = data[\"text\"].take(np.argwhere(Y==0).flatten()).tolist()\n",
    "summary = generate_summary(cluster_text, top_n=8)\n",
    "print(summary)"
   ]
  }
 ],
 "metadata": {
  "kernelspec": {
   "display_name": "Python 3",
   "language": "python",
   "name": "python3"
  },
  "language_info": {
   "codemirror_mode": {
    "name": "ipython",
    "version": 3
   },
   "file_extension": ".py",
   "mimetype": "text/x-python",
   "name": "python",
   "nbconvert_exporter": "python",
   "pygments_lexer": "ipython3",
   "version": "3.8.5"
  }
 },
 "nbformat": 4,
 "nbformat_minor": 4
}
