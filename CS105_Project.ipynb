{
 "cells": [
  {
   "cell_type": "markdown",
   "metadata": {},
   "source": [
    "# CS105 Survey\n",
    "Members: John Huh, Emily Mai, Calvin Ng"
   ]
  },
  {
   "cell_type": "markdown",
   "metadata": {},
   "source": [
    "# Data Pre-processing"
   ]
  },
  {
   "cell_type": "code",
   "execution_count": 4,
   "metadata": {},
   "outputs": [],
   "source": [
    "# import necessary libraries\n",
    "import json\n",
    "import pandas as pd\n",
    "import numpy as np\n",
    "from tqdm import tqdm\n",
    "import tensorflow as tf\n",
    "import tensorflow_hub as hub\n",
    "import itertools\n",
    "import matplotlib.pyplot as plt\n",
    "from sklearn import metrics\n",
    "from sklearn.mixture import GaussianMixture\n",
    "from sklearn.cluster import DBSCAN\n",
    "from sklearn.manifold import TSNE"
   ]
  },
  {
   "cell_type": "code",
   "execution_count": 2,
   "metadata": {},
   "outputs": [],
   "source": [
    "# load the data\n",
    "def load_data(start=0, end=10000, path=\"data/yelp_academic_dataset_review.json\"):\n",
    "    datafile = open(path, encoding='utf-8')\n",
    "    data = []\n",
    "    for i, line in tqdm(enumerate(datafile)):\n",
    "        if i in list(range(start, end)):\n",
    "            data.append(json.loads(line))\n",
    "        if i > end:\n",
    "            break\n",
    "    datafile.close()\n",
    "    df = pd.DataFrame(data)\n",
    "    return df"
   ]
  },
  {
   "cell_type": "markdown",
   "metadata": {},
   "source": [
    "# Text Embedding"
   ]
  },
  {
   "cell_type": "code",
   "execution_count": 3,
   "metadata": {},
   "outputs": [],
   "source": [
    "# function to embedd the reviews\n",
    "def load_embeddings(dataframe, column):\n",
    "    embed = hub.load(\"https://tfhub.dev/google/universal-sentence-encoder/4\")\n",
    "    messages = np.asarray(dataframe[column])\n",
    "    tensor_list = tf.convert_to_tensor(messages)\n",
    "    embeddings = np.array(embed(tensor_list)).tolist()\n",
    "    # return the reviews followed by their respective embeddings\n",
    "    return messages, embeddings"
   ]
  },
  {
   "cell_type": "code",
   "execution_count": 4,
   "metadata": {},
   "outputs": [],
   "source": [
    "# function to show the embeddings\n",
    "def show_embeddings(n, reviews, embeddings):\n",
    "    # print first n review embeddings\n",
    "    for i, message_embedding in enumerate(embeddings[:n]):\n",
    "        print(\"Message: {}\".format(reviews[i]))\n",
    "        print(\"Embedding size: {}\".format(len(message_embedding)))\n",
    "        message_embedding_snippet = \", \".join(\n",
    "            (str(x) for x in message_embedding[:3]))\n",
    "        print(\"Embedding: [{}, ...]\\n\".format(message_embedding_snippet))"
   ]
  },
  {
   "cell_type": "markdown",
   "metadata": {},
   "source": [
    "# Batch Processing"
   ]
  },
  {
   "cell_type": "code",
   "execution_count": 5,
   "metadata": {},
   "outputs": [
    {
     "data": {
      "text/html": [
       "<div>\n",
       "<style scoped>\n",
       "    .dataframe tbody tr th:only-of-type {\n",
       "        vertical-align: middle;\n",
       "    }\n",
       "\n",
       "    .dataframe tbody tr th {\n",
       "        vertical-align: top;\n",
       "    }\n",
       "\n",
       "    .dataframe thead th {\n",
       "        text-align: right;\n",
       "    }\n",
       "</style>\n",
       "<table border=\"1\" class=\"dataframe\">\n",
       "  <thead>\n",
       "    <tr style=\"text-align: right;\">\n",
       "      <th></th>\n",
       "      <th>review_id</th>\n",
       "      <th>user_id</th>\n",
       "      <th>business_id</th>\n",
       "      <th>stars</th>\n",
       "      <th>useful</th>\n",
       "      <th>funny</th>\n",
       "      <th>cool</th>\n",
       "      <th>text</th>\n",
       "      <th>date</th>\n",
       "      <th>embedding</th>\n",
       "    </tr>\n",
       "  </thead>\n",
       "  <tbody>\n",
       "    <tr>\n",
       "      <th>0</th>\n",
       "      <td>lWC-xP3rd6obsecCYsGZRg</td>\n",
       "      <td>ak0TdVmGKo4pwqdJSTLwWw</td>\n",
       "      <td>buF9druCkbuXLX526sGELQ</td>\n",
       "      <td>4.0</td>\n",
       "      <td>3</td>\n",
       "      <td>1</td>\n",
       "      <td>1</td>\n",
       "      <td>Apparently Prides Osteria had a rough summer a...</td>\n",
       "      <td>2014-10-11 03:34:02</td>\n",
       "      <td>[-0.018010487779974937, -0.050318099558353424,...</td>\n",
       "    </tr>\n",
       "    <tr>\n",
       "      <th>1</th>\n",
       "      <td>8bFej1QE5LXp4O05qjGqXA</td>\n",
       "      <td>YoVfDbnISlW0f7abNQACIg</td>\n",
       "      <td>RA4V8pr014UyUbDvI-LW2A</td>\n",
       "      <td>4.0</td>\n",
       "      <td>1</td>\n",
       "      <td>0</td>\n",
       "      <td>0</td>\n",
       "      <td>This store is pretty good. Not as great as Wal...</td>\n",
       "      <td>2015-07-03 20:38:25</td>\n",
       "      <td>[-0.04308006912469864, -0.019955946132540703, ...</td>\n",
       "    </tr>\n",
       "    <tr>\n",
       "      <th>2</th>\n",
       "      <td>NDhkzczKjLshODbqDoNLSg</td>\n",
       "      <td>eC5evKn1TWDyHCyQAwguUw</td>\n",
       "      <td>_sS2LBIGNT5NQb6PD1Vtjw</td>\n",
       "      <td>5.0</td>\n",
       "      <td>0</td>\n",
       "      <td>0</td>\n",
       "      <td>0</td>\n",
       "      <td>I called WVM on the recommendation of a couple...</td>\n",
       "      <td>2013-05-28 20:38:06</td>\n",
       "      <td>[-0.01958566904067993, -0.04187788814306259, -...</td>\n",
       "    </tr>\n",
       "    <tr>\n",
       "      <th>3</th>\n",
       "      <td>T5fAqjjFooT4V0OeZyuk1w</td>\n",
       "      <td>SFQ1jcnGguO0LYWnbbftAA</td>\n",
       "      <td>0AzLzHfOJgL7ROwhdww2ew</td>\n",
       "      <td>2.0</td>\n",
       "      <td>1</td>\n",
       "      <td>1</td>\n",
       "      <td>1</td>\n",
       "      <td>I've stayed at many Marriott and Renaissance M...</td>\n",
       "      <td>2010-01-08 02:29:15</td>\n",
       "      <td>[-0.044252898544073105, -0.07447142153978348, ...</td>\n",
       "    </tr>\n",
       "    <tr>\n",
       "      <th>4</th>\n",
       "      <td>sjm_uUcQVxab_EeLCqsYLg</td>\n",
       "      <td>0kA0PAJ8QFMeveQWHFqz2A</td>\n",
       "      <td>8zehGz9jnxPqXtOc7KaJxA</td>\n",
       "      <td>4.0</td>\n",
       "      <td>0</td>\n",
       "      <td>0</td>\n",
       "      <td>0</td>\n",
       "      <td>The food is always great here. The service fro...</td>\n",
       "      <td>2011-07-28 18:05:01</td>\n",
       "      <td>[0.013128811493515968, -0.01807524263858795, 0...</td>\n",
       "    </tr>\n",
       "  </tbody>\n",
       "</table>\n",
       "</div>"
      ],
      "text/plain": [
       "                review_id                 user_id             business_id  \\\n",
       "0  lWC-xP3rd6obsecCYsGZRg  ak0TdVmGKo4pwqdJSTLwWw  buF9druCkbuXLX526sGELQ   \n",
       "1  8bFej1QE5LXp4O05qjGqXA  YoVfDbnISlW0f7abNQACIg  RA4V8pr014UyUbDvI-LW2A   \n",
       "2  NDhkzczKjLshODbqDoNLSg  eC5evKn1TWDyHCyQAwguUw  _sS2LBIGNT5NQb6PD1Vtjw   \n",
       "3  T5fAqjjFooT4V0OeZyuk1w  SFQ1jcnGguO0LYWnbbftAA  0AzLzHfOJgL7ROwhdww2ew   \n",
       "4  sjm_uUcQVxab_EeLCqsYLg  0kA0PAJ8QFMeveQWHFqz2A  8zehGz9jnxPqXtOc7KaJxA   \n",
       "\n",
       "   stars  useful  funny  cool  \\\n",
       "0    4.0       3      1     1   \n",
       "1    4.0       1      0     0   \n",
       "2    5.0       0      0     0   \n",
       "3    2.0       1      1     1   \n",
       "4    4.0       0      0     0   \n",
       "\n",
       "                                                text                 date  \\\n",
       "0  Apparently Prides Osteria had a rough summer a...  2014-10-11 03:34:02   \n",
       "1  This store is pretty good. Not as great as Wal...  2015-07-03 20:38:25   \n",
       "2  I called WVM on the recommendation of a couple...  2013-05-28 20:38:06   \n",
       "3  I've stayed at many Marriott and Renaissance M...  2010-01-08 02:29:15   \n",
       "4  The food is always great here. The service fro...  2011-07-28 18:05:01   \n",
       "\n",
       "                                           embedding  \n",
       "0  [-0.018010487779974937, -0.050318099558353424,...  \n",
       "1  [-0.04308006912469864, -0.019955946132540703, ...  \n",
       "2  [-0.01958566904067993, -0.04187788814306259, -...  \n",
       "3  [-0.044252898544073105, -0.07447142153978348, ...  \n",
       "4  [0.013128811493515968, -0.01807524263858795, 0...  "
      ]
     },
     "execution_count": 5,
     "metadata": {},
     "output_type": "execute_result"
    }
   ],
   "source": [
    "# function to process batches of the data\n",
    "def batch_process(step=10000, stop=50000):\n",
    "    review_df = pd.DataFrame()\n",
    "    # generate ranges (i.e. [(0,1000), (1000,2000), ...]\n",
    "    batches = [(n, min(n + step, stop)) for n in range(0, stop, step)]\n",
    "    for s, e in batches:\n",
    "        print(\"Processing {}:{}...\".format(s, e))\n",
    "        # load data and embeddings\n",
    "        df = load_data(s, e)\n",
    "        text, embeddings = load_embeddings(df, \"text\")\n",
    "        # store embeddings in dataframe\n",
    "        df[\"embedding\"] = embeddings\n",
    "        # add new embeddings to main dataframe\n",
    "        review_df = pd.concat([review_df, df], ignore_index=True, sort=False)\n",
    "\n",
    "    # save to pickle file to avoid reprocessing of embeddings\n",
    "    review_df.to_pickle(\"data/data.pkl\")\n",
    "    print(review_df)\n",
    "\n",
    "\n",
    "# batch_process()\n",
    "\n",
    "# if you have the pkl file just run this:\n",
    "# review_df = pd.read_pickle(\"data/data.pkl\")\n",
    "# review_df.head()"
   ]
  },
  {
   "cell_type": "markdown",
   "metadata": {},
   "source": [
    "# Reviews Clustering"
   ]
  },
  {
   "cell_type": "code",
   "execution_count": 55,
   "metadata": {},
   "outputs": [],
   "source": [
    "# clustering using Gaussian Mixture Models\n",
    "# grid search hyper-parameters and return best model and scores\n",
    "def gmm_model_selection(n_clusters, X):\n",
    "    lowest_bic = np.infty\n",
    "    bic = []\n",
    "    assert X.shape[0] >= n_clusters\n",
    "#     cv_types = ['spherical', 'tied', 'diag', 'full']\n",
    "#     for cv_type in cv_types:\n",
    "    cv_type = 'diag'\n",
    "    for k in range(1, n_clusters):\n",
    "        # Fit a Gaussian mixture with EM\n",
    "        gmm = GaussianMixture(n_components=k, covariance_type=cv_type)\n",
    "        gmm.fit(X)\n",
    "        bic.append(gmm.bic(X))\n",
    "        if bic[-1] < lowest_bic:\n",
    "            lowest_bic = bic[-1]\n",
    "            best_gmm = gmm\n",
    "    print(\"Num components chosen by GMM: {}\".format(best_gmm.n_components))\n",
    "    return best_gmm, bic\n",
    "\n",
    "# clustering using DBSCAN\n",
    "# grid search hyper-parameters and return best model and scores\n",
    "def dbscan_model_selection(X):\n",
    "    lowest_ss = np.infty\n",
    "    scores = []\n",
    "    for epsilon in [.95, 1]:\n",
    "        for min_samples in [3, 5, 7, 9]:\n",
    "            db = DBSCAN(eps=epsilon, min_samples=min_samples).fit(X)\n",
    "            labels = db.labels_\n",
    "            scores.append(metrics.silhouette_score(X, labels))\n",
    "            if scores[-1] < lowest_ss:\n",
    "                lowest_ss = scores[-1]\n",
    "                best_db = db\n",
    "    labels = best_db.labels_\n",
    "    n_clusters_ = len(set(labels)) - (1 if -1 in labels else 0)\n",
    "    n_noise_ = list(labels).count(-1)\n",
    "    print(lowest_ss, n_clusters_, n_noise_)\n",
    "    return best_db, scores\n",
    "\n",
    "# visualization for clusters\n",
    "def plot_tsne(gmm, X, Y):\n",
    "    # dimensionality reduction\n",
    "    x_reduced = TSNE(n_components=2).fit_transform(X)\n",
    "\n",
    "    # plot points and their respective colors according to cluster\n",
    "    color_iter = itertools.cycle(['blue', 'grey', 'darkorange', 'green'])\n",
    "    for i, (mean, color) in enumerate(zip(gmm.means_, color_iter)):\n",
    "        if not np.any(Y == i):\n",
    "            continue\n",
    "        plt.scatter(x_reduced[Y == i, 0], x_reduced[Y == i, 1], 5, color=color)\n",
    "\n",
    "    plt.xticks(())\n",
    "    plt.yticks(())\n",
    "    plt.title(f'Selected GMM: {gmm.covariance_type} model, 'f'{gmm.n_components} components')\n",
    "    plt.show()"
   ]
  },
  {
   "cell_type": "code",
   "execution_count": 56,
   "metadata": {},
   "outputs": [
    {
     "name": "stdout",
     "output_type": "stream",
     "text": [
      "Num components chosen by GMM: 3\n"
     ]
    },
    {
     "data": {
      "text/plain": [
       "[<matplotlib.lines.Line2D at 0x1898a3be370>]"
      ]
     },
     "execution_count": 56,
     "metadata": {},
     "output_type": "execute_result"
    },
    {
     "data": {
      "image/png": "[encoded data removed]",
      "text/plain": [
       "<Figure size 432x288 with 1 Axes>"
      ]
     },
     "metadata": {
      "needs_background": "light"
     },
     "output_type": "display_data"
    }
   ],
   "source": [
    "# load data for one business\n",
    "data = pd.read_pickle(\"data/data.pkl\")\n",
    "data = data[data[\"business_id\"] == \"bZiIIUcpgxh8mpKMDhdqbA\"]\n",
    "X = np.array(data[\"embedding\"].tolist())\n",
    "\n",
    "# run once to get best model\n",
    "best_gmm, bic = gmm_model_selection(10, X)\n",
    "plt.plot(np.arange(1,10), bic)"
   ]
  },
  {
   "cell_type": "code",
   "execution_count": 60,
   "metadata": {},
   "outputs": [
    {
     "data": {
      "image/png": "[encoded data removed]",
      "text/plain": [
       "<Figure size 432x288 with 1 Axes>"
      ]
     },
     "metadata": {},
     "output_type": "display_data"
    }
   ],
   "source": [
    "# fit and predict GMM on data\n",
    "best_gmm = GaussianMixture(n_components=3, covariance_type='spherical').fit(X)\n",
    "\n",
    "# Y contains generated cluster labels\n",
    "Y = best_gmm.predict(X)\n",
    "\n",
    "# generate plot using TSNE\n",
    "plot_tsne(best_gmm, X, Y)"
   ]
  },
  {
   "cell_type": "markdown",
   "metadata": {},
   "source": [
    "# Anomaly Detection"
   ]
  },
  {
   "cell_type": "code",
   "execution_count": null,
   "metadata": {},
   "outputs": [],
   "source": []
  }
 ],
 "metadata": {
  "kernelspec": {
   "display_name": "Python 3",
   "language": "python",
   "name": "python3"
  },
  "language_info": {
   "codemirror_mode": {
    "name": "ipython",
    "version": 3
   },
   "file_extension": ".py",
   "mimetype": "text/x-python",
   "name": "python",
   "nbconvert_exporter": "python",
   "pygments_lexer": "ipython3",
   "version": "3.8.5"
  }
 },
 "nbformat": 4,
 "nbformat_minor": 4
}
