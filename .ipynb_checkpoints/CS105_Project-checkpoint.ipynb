{
 "cells": [
  {
   "cell_type": "markdown",
   "metadata": {},
   "source": [
    "# CS105 Survey\n",
    "Members: John Huh, Emily Mai, Calvin Ng"
   ]
  },
  {
   "cell_type": "markdown",
   "metadata": {},
   "source": [
    "# Data Pre-processing"
   ]
  },
  {
   "cell_type": "code",
   "execution_count": 1,
   "metadata": {},
   "outputs": [],
   "source": [
    "# import necessary libraries\n",
    "import json\n",
    "import pandas as pd\n",
    "import numpy as np\n",
    "from tqdm import tqdm\n",
    "import tensorflow as tf\n",
    "import tensorflow_hub as hub"
   ]
  },
  {
   "cell_type": "code",
   "execution_count": 2,
   "metadata": {},
   "outputs": [],
   "source": [
    "# load the data\n",
    "def load_data(start=0, end=10000, path=\"data/yelp_academic_dataset_review.json\"):\n",
    "    datafile = open(path, encoding='utf-8')\n",
    "    data = []\n",
    "    for i, line in tqdm(enumerate(datafile)):\n",
    "        if i in list(range(start, end)):\n",
    "            data.append(json.loads(line))\n",
    "        if i > end:\n",
    "            break\n",
    "    datafile.close()\n",
    "    df = pd.DataFrame(data)\n",
    "    return df"
   ]
  },
  {
   "cell_type": "markdown",
   "metadata": {},
   "source": [
    "# Text Embedding"
   ]
  },
  {
   "cell_type": "code",
   "execution_count": 3,
   "metadata": {},
   "outputs": [],
   "source": [
    "# function to embedd the reviews\n",
    "def load_embeddings(dataframe, column):\n",
    "    embed = hub.load(\"https://tfhub.dev/google/universal-sentence-encoder/4\")\n",
    "    messages = np.asarray(dataframe[column])\n",
    "    tensor_list = tf.convert_to_tensor(messages)\n",
    "    embeddings = np.array(embed(tensor_list)).tolist()\n",
    "    # return the reviews followed by their respective embeddings\n",
    "    return messages, embeddings"
   ]
  },
  {
   "cell_type": "code",
   "execution_count": 4,
   "metadata": {},
   "outputs": [],
   "source": [
    "# function to show the embeddings\n",
    "def show_embeddings(n, reviews, embeddings):\n",
    "    # print first n review embeddings\n",
    "    for i, message_embedding in enumerate(embeddings[:n]):\n",
    "        print(\"Message: {}\".format(reviews[i]))\n",
    "        print(\"Embedding size: {}\".format(len(message_embedding)))\n",
    "        message_embedding_snippet = \", \".join(\n",
    "            (str(x) for x in message_embedding[:3]))\n",
    "        print(\"Embedding: [{}, ...]\\n\".format(message_embedding_snippet))"
   ]
  },
  {
   "cell_type": "markdown",
   "metadata": {},
   "source": [
    "# Batch Processing"
   ]
  },
  {
   "cell_type": "code",
   "execution_count": 5,
   "metadata": {
    "scrolled": true
   },
   "outputs": [],
   "source": [
    "# function to process batches of the data\n",
    "def batch_process(step=10000, stop=50000):\n",
    "    review_df = pd.DataFrame()\n",
    "    # generate ranges (i.e. [(0,1000), (1000,2000), ...]\n",
    "    batches = [(n, min(n + step, stop)) for n in range(0, stop, step)]\n",
    "    for s, e in batches:\n",
    "        print(\"Processing {}:{}...\".format(s, e))\n",
    "        # load data and embeddings\n",
    "        df = load_data(s, e)\n",
    "        text, embeddings = load_embeddings(df, \"text\")\n",
    "        # store embeddings in dataframe\n",
    "        df[\"embedding\"] = embeddings\n",
    "        # add new embeddings to main dataframe\n",
    "        review_df = pd.concat([review_df, df], ignore_index=True, sort=False)\n",
    "\n",
    "    # save to pickle file to avoid reprocessing of embeddings\n",
    "    review_df.to_pickle(\"data/data.pkl\")\n",
    "    print(review_df)\n",
    "\n",
    "\n",
    "# batch_process()\n",
    "\n",
    "# if you have the pkl file just run this:\n",
    "# review_df = pickle.load(\"data/data.pkl\")\n",
    "# df = pd.DataFrame()\n",
    "# review_df = df.to_pickle('data/data.pkl', protocol=4)\n",
    "# with open(\"data/data.pkl\", \"rb\") as fh:\n",
    "#   data = pickle.load(fh)\n",
    "# review_df = pd.read_pickle(\"data/data.pkl\")\n",
    "# review_df.head()"
   ]
  },
  {
   "cell_type": "code",
   "execution_count": 6,
   "metadata": {},
   "outputs": [
    {
     "data": {
      "text/html": [
       "<div>\n",
       "<style scoped>\n",
       "    .dataframe tbody tr th:only-of-type {\n",
       "        vertical-align: middle;\n",
       "    }\n",
       "\n",
       "    .dataframe tbody tr th {\n",
       "        vertical-align: top;\n",
       "    }\n",
       "\n",
       "    .dataframe thead th {\n",
       "        text-align: right;\n",
       "    }\n",
       "</style>\n",
       "<table border=\"1\" class=\"dataframe\">\n",
       "  <thead>\n",
       "    <tr style=\"text-align: right;\">\n",
       "      <th></th>\n",
       "      <th>review_id</th>\n",
       "      <th>user_id</th>\n",
       "      <th>business_id</th>\n",
       "      <th>stars</th>\n",
       "      <th>useful</th>\n",
       "      <th>funny</th>\n",
       "      <th>cool</th>\n",
       "      <th>text</th>\n",
       "      <th>date</th>\n",
       "      <th>embedding</th>\n",
       "    </tr>\n",
       "  </thead>\n",
       "  <tbody>\n",
       "    <tr>\n",
       "      <th>0</th>\n",
       "      <td>lWC-xP3rd6obsecCYsGZRg</td>\n",
       "      <td>ak0TdVmGKo4pwqdJSTLwWw</td>\n",
       "      <td>buF9druCkbuXLX526sGELQ</td>\n",
       "      <td>4.0</td>\n",
       "      <td>3</td>\n",
       "      <td>1</td>\n",
       "      <td>1</td>\n",
       "      <td>Apparently Prides Osteria had a rough summer a...</td>\n",
       "      <td>2014-10-11 03:34:02</td>\n",
       "      <td>[-0.018010487779974937, -0.050318099558353424,...</td>\n",
       "    </tr>\n",
       "    <tr>\n",
       "      <th>1</th>\n",
       "      <td>8bFej1QE5LXp4O05qjGqXA</td>\n",
       "      <td>YoVfDbnISlW0f7abNQACIg</td>\n",
       "      <td>RA4V8pr014UyUbDvI-LW2A</td>\n",
       "      <td>4.0</td>\n",
       "      <td>1</td>\n",
       "      <td>0</td>\n",
       "      <td>0</td>\n",
       "      <td>This store is pretty good. Not as great as Wal...</td>\n",
       "      <td>2015-07-03 20:38:25</td>\n",
       "      <td>[-0.04308006912469864, -0.019955946132540703, ...</td>\n",
       "    </tr>\n",
       "    <tr>\n",
       "      <th>2</th>\n",
       "      <td>NDhkzczKjLshODbqDoNLSg</td>\n",
       "      <td>eC5evKn1TWDyHCyQAwguUw</td>\n",
       "      <td>_sS2LBIGNT5NQb6PD1Vtjw</td>\n",
       "      <td>5.0</td>\n",
       "      <td>0</td>\n",
       "      <td>0</td>\n",
       "      <td>0</td>\n",
       "      <td>I called WVM on the recommendation of a couple...</td>\n",
       "      <td>2013-05-28 20:38:06</td>\n",
       "      <td>[-0.01958566904067993, -0.04187788814306259, -...</td>\n",
       "    </tr>\n",
       "    <tr>\n",
       "      <th>3</th>\n",
       "      <td>T5fAqjjFooT4V0OeZyuk1w</td>\n",
       "      <td>SFQ1jcnGguO0LYWnbbftAA</td>\n",
       "      <td>0AzLzHfOJgL7ROwhdww2ew</td>\n",
       "      <td>2.0</td>\n",
       "      <td>1</td>\n",
       "      <td>1</td>\n",
       "      <td>1</td>\n",
       "      <td>I've stayed at many Marriott and Renaissance M...</td>\n",
       "      <td>2010-01-08 02:29:15</td>\n",
       "      <td>[-0.044252898544073105, -0.07447142153978348, ...</td>\n",
       "    </tr>\n",
       "    <tr>\n",
       "      <th>4</th>\n",
       "      <td>sjm_uUcQVxab_EeLCqsYLg</td>\n",
       "      <td>0kA0PAJ8QFMeveQWHFqz2A</td>\n",
       "      <td>8zehGz9jnxPqXtOc7KaJxA</td>\n",
       "      <td>4.0</td>\n",
       "      <td>0</td>\n",
       "      <td>0</td>\n",
       "      <td>0</td>\n",
       "      <td>The food is always great here. The service fro...</td>\n",
       "      <td>2011-07-28 18:05:01</td>\n",
       "      <td>[0.013128811493515968, -0.01807524263858795, 0...</td>\n",
       "    </tr>\n",
       "  </tbody>\n",
       "</table>\n",
       "</div>"
      ],
      "text/plain": [
       "                review_id                 user_id             business_id  \\\n",
       "0  lWC-xP3rd6obsecCYsGZRg  ak0TdVmGKo4pwqdJSTLwWw  buF9druCkbuXLX526sGELQ   \n",
       "1  8bFej1QE5LXp4O05qjGqXA  YoVfDbnISlW0f7abNQACIg  RA4V8pr014UyUbDvI-LW2A   \n",
       "2  NDhkzczKjLshODbqDoNLSg  eC5evKn1TWDyHCyQAwguUw  _sS2LBIGNT5NQb6PD1Vtjw   \n",
       "3  T5fAqjjFooT4V0OeZyuk1w  SFQ1jcnGguO0LYWnbbftAA  0AzLzHfOJgL7ROwhdww2ew   \n",
       "4  sjm_uUcQVxab_EeLCqsYLg  0kA0PAJ8QFMeveQWHFqz2A  8zehGz9jnxPqXtOc7KaJxA   \n",
       "\n",
       "   stars  useful  funny  cool  \\\n",
       "0    4.0       3      1     1   \n",
       "1    4.0       1      0     0   \n",
       "2    5.0       0      0     0   \n",
       "3    2.0       1      1     1   \n",
       "4    4.0       0      0     0   \n",
       "\n",
       "                                                text                 date  \\\n",
       "0  Apparently Prides Osteria had a rough summer a...  2014-10-11 03:34:02   \n",
       "1  This store is pretty good. Not as great as Wal...  2015-07-03 20:38:25   \n",
       "2  I called WVM on the recommendation of a couple...  2013-05-28 20:38:06   \n",
       "3  I've stayed at many Marriott and Renaissance M...  2010-01-08 02:29:15   \n",
       "4  The food is always great here. The service fro...  2011-07-28 18:05:01   \n",
       "\n",
       "                                           embedding  \n",
       "0  [-0.018010487779974937, -0.050318099558353424,...  \n",
       "1  [-0.04308006912469864, -0.019955946132540703, ...  \n",
       "2  [-0.01958566904067993, -0.04187788814306259, -...  \n",
       "3  [-0.044252898544073105, -0.07447142153978348, ...  \n",
       "4  [0.013128811493515968, -0.01807524263858795, 0...  "
      ]
     },
     "execution_count": 6,
     "metadata": {},
     "output_type": "execute_result"
    }
   ],
   "source": [
    "review_df = pd.read_pickle(\"data/data.pkl\")\n",
    "review_df.head()"
   ]
  },
  {
   "cell_type": "code",
   "execution_count": 10,
   "metadata": {},
   "outputs": [
    {
     "data": {
      "text/plain": [
       "bZiIIUcpgxh8mpKMDhdqbA    366\n",
       "H_RM2u1WWGU1HkKZrYq2Ow    295\n",
       "jREzLrIEkc4jQKLfYMJ0gg    184\n",
       "VPqWLp9kMiZEbctCebIZUA    180\n",
       "oz882XuZCxajKo64Opgq_Q    180\n",
       "                         ... \n",
       "DSIFKTB7_NtZCuosbID2AQ      1\n",
       "dUUIpF6HuRGHpzejFBqgiQ      1\n",
       "gRIoTIXGZ7jS0Ya17KMPrg      1\n",
       "VUjNKqdityZhUG4EzTPkhQ      1\n",
       "qb2VMphnVWtExiRmx-g7wA      1\n",
       "Name: business_id, Length: 9032, dtype: int64"
      ]
     },
     "execution_count": 10,
     "metadata": {},
     "output_type": "execute_result"
    }
   ],
   "source": [
    "review_df['business_id'].value_counts()"
   ]
  },
  {
   "cell_type": "code",
   "execution_count": 13,
   "metadata": {},
   "outputs": [],
   "source": [
    "mostpopRest = review_df.loc[(review_df['business_id'] == 'bZiIIUcpgxh8mpKMDhdqbA')]"
   ]
  },
  {
   "cell_type": "code",
   "execution_count": 14,
   "metadata": {},
   "outputs": [
    {
     "data": {
      "text/html": [
       "<div>\n",
       "<style scoped>\n",
       "    .dataframe tbody tr th:only-of-type {\n",
       "        vertical-align: middle;\n",
       "    }\n",
       "\n",
       "    .dataframe tbody tr th {\n",
       "        vertical-align: top;\n",
       "    }\n",
       "\n",
       "    .dataframe thead th {\n",
       "        text-align: right;\n",
       "    }\n",
       "</style>\n",
       "<table border=\"1\" class=\"dataframe\">\n",
       "  <thead>\n",
       "    <tr style=\"text-align: right;\">\n",
       "      <th></th>\n",
       "      <th>review_id</th>\n",
       "      <th>user_id</th>\n",
       "      <th>business_id</th>\n",
       "      <th>stars</th>\n",
       "      <th>useful</th>\n",
       "      <th>funny</th>\n",
       "      <th>cool</th>\n",
       "      <th>text</th>\n",
       "      <th>date</th>\n",
       "      <th>embedding</th>\n",
       "    </tr>\n",
       "  </thead>\n",
       "  <tbody>\n",
       "    <tr>\n",
       "      <th>55</th>\n",
       "      <td>z-6ElnK3yXpn2oNKR7NYtw</td>\n",
       "      <td>OSsqq7CzBdAbF7E6kZHd0g</td>\n",
       "      <td>bZiIIUcpgxh8mpKMDhdqbA</td>\n",
       "      <td>3.0</td>\n",
       "      <td>0</td>\n",
       "      <td>0</td>\n",
       "      <td>0</td>\n",
       "      <td>My husband and I shared the parmesan truffly f...</td>\n",
       "      <td>2017-10-11 00:25:47</td>\n",
       "      <td>[-0.008172041736543179, -0.026068199425935745,...</td>\n",
       "    </tr>\n",
       "    <tr>\n",
       "      <th>173</th>\n",
       "      <td>6S8Z94QXR4uEJfpZGB7Y4Q</td>\n",
       "      <td>F38RIDfENOia72iiIE4G6Q</td>\n",
       "      <td>bZiIIUcpgxh8mpKMDhdqbA</td>\n",
       "      <td>4.0</td>\n",
       "      <td>0</td>\n",
       "      <td>0</td>\n",
       "      <td>0</td>\n",
       "      <td>This place is good! You have to stop and try i...</td>\n",
       "      <td>2013-04-10 17:19:45</td>\n",
       "      <td>[0.008694560267031193, 0.031420063227415085, -...</td>\n",
       "    </tr>\n",
       "    <tr>\n",
       "      <th>363</th>\n",
       "      <td>DfEMNwInleUx4ubGkY1_zg</td>\n",
       "      <td>3574xsnjNk9QlOEcDuwpaQ</td>\n",
       "      <td>bZiIIUcpgxh8mpKMDhdqbA</td>\n",
       "      <td>4.0</td>\n",
       "      <td>0</td>\n",
       "      <td>0</td>\n",
       "      <td>0</td>\n",
       "      <td>Almost always busy, always fantastic and worth...</td>\n",
       "      <td>2013-12-28 22:05:12</td>\n",
       "      <td>[0.006152917630970478, -0.058552827686071396, ...</td>\n",
       "    </tr>\n",
       "    <tr>\n",
       "      <th>734</th>\n",
       "      <td>c0qU03M_xINuEiqXrF-QCQ</td>\n",
       "      <td>pLpnFEdjWHRsMip-cBE7fw</td>\n",
       "      <td>bZiIIUcpgxh8mpKMDhdqbA</td>\n",
       "      <td>5.0</td>\n",
       "      <td>0</td>\n",
       "      <td>0</td>\n",
       "      <td>0</td>\n",
       "      <td>Wow.  Amazing hamburgers.   First visit.  Than...</td>\n",
       "      <td>2018-10-04 18:13:58</td>\n",
       "      <td>[0.03460768610239029, -0.03287480026483536, -0...</td>\n",
       "    </tr>\n",
       "    <tr>\n",
       "      <th>781</th>\n",
       "      <td>YjmclnjoZ9KDV2_SKaTpVQ</td>\n",
       "      <td>R4idbf8eTSFuWwW8gBx6bg</td>\n",
       "      <td>bZiIIUcpgxh8mpKMDhdqbA</td>\n",
       "      <td>4.0</td>\n",
       "      <td>0</td>\n",
       "      <td>0</td>\n",
       "      <td>0</td>\n",
       "      <td>Popped in one night about an hour before Closi...</td>\n",
       "      <td>2014-04-01 03:43:56</td>\n",
       "      <td>[-0.030987374484539032, -0.06430681049823761, ...</td>\n",
       "    </tr>\n",
       "    <tr>\n",
       "      <th>...</th>\n",
       "      <td>...</td>\n",
       "      <td>...</td>\n",
       "      <td>...</td>\n",
       "      <td>...</td>\n",
       "      <td>...</td>\n",
       "      <td>...</td>\n",
       "      <td>...</td>\n",
       "      <td>...</td>\n",
       "      <td>...</td>\n",
       "      <td>...</td>\n",
       "    </tr>\n",
       "    <tr>\n",
       "      <th>48799</th>\n",
       "      <td>fgh49aVJYlZhA1IjzFZ6sQ</td>\n",
       "      <td>9X5pT-l-mada_gFkW6auFQ</td>\n",
       "      <td>bZiIIUcpgxh8mpKMDhdqbA</td>\n",
       "      <td>5.0</td>\n",
       "      <td>0</td>\n",
       "      <td>0</td>\n",
       "      <td>0</td>\n",
       "      <td>The Ahi burger is sushi grade tuna that has be...</td>\n",
       "      <td>2014-04-20 21:21:56</td>\n",
       "      <td>[0.017288856208324432, -0.06663403660058975, 0...</td>\n",
       "    </tr>\n",
       "    <tr>\n",
       "      <th>48863</th>\n",
       "      <td>Sk6BvUQCCqCDxlFJyevP-w</td>\n",
       "      <td>bHNCpXfV1AljGfpF_liYhA</td>\n",
       "      <td>bZiIIUcpgxh8mpKMDhdqbA</td>\n",
       "      <td>4.0</td>\n",
       "      <td>0</td>\n",
       "      <td>0</td>\n",
       "      <td>0</td>\n",
       "      <td>Everything is good here! Burgers and drinks ar...</td>\n",
       "      <td>2015-07-04 18:58:47</td>\n",
       "      <td>[-0.06854645162820816, -0.0693291574716568, 0....</td>\n",
       "    </tr>\n",
       "    <tr>\n",
       "      <th>48915</th>\n",
       "      <td>PDne7BS4pe8ATQefL1MJTg</td>\n",
       "      <td>trG7qHQzLTnzJxWn87kurA</td>\n",
       "      <td>bZiIIUcpgxh8mpKMDhdqbA</td>\n",
       "      <td>5.0</td>\n",
       "      <td>0</td>\n",
       "      <td>0</td>\n",
       "      <td>0</td>\n",
       "      <td>This is my favorite burger place for a basic b...</td>\n",
       "      <td>2016-01-05 23:50:50</td>\n",
       "      <td>[0.046158116310834885, -0.07063821703195572, -...</td>\n",
       "    </tr>\n",
       "    <tr>\n",
       "      <th>49470</th>\n",
       "      <td>T75EcC9ou0Kk8jbQiYG31A</td>\n",
       "      <td>cbZSH1JBhyfbOh8HIq8UAQ</td>\n",
       "      <td>bZiIIUcpgxh8mpKMDhdqbA</td>\n",
       "      <td>4.0</td>\n",
       "      <td>0</td>\n",
       "      <td>0</td>\n",
       "      <td>0</td>\n",
       "      <td>Amazing burgers!!! Service was great and fast,...</td>\n",
       "      <td>2017-11-19 18:09:19</td>\n",
       "      <td>[-0.0028716837987303734, -0.058753836899995804...</td>\n",
       "    </tr>\n",
       "    <tr>\n",
       "      <th>49481</th>\n",
       "      <td>PfBtnOdIQrIlisUlVc7vyQ</td>\n",
       "      <td>RXRMSgN7udYc8z4Zzq3sCA</td>\n",
       "      <td>bZiIIUcpgxh8mpKMDhdqbA</td>\n",
       "      <td>1.0</td>\n",
       "      <td>0</td>\n",
       "      <td>0</td>\n",
       "      <td>0</td>\n",
       "      <td>I returned because I have heard good things an...</td>\n",
       "      <td>2017-10-25 17:19:04</td>\n",
       "      <td>[0.0034343902952969074, -0.06470411270856857, ...</td>\n",
       "    </tr>\n",
       "  </tbody>\n",
       "</table>\n",
       "<p>366 rows × 10 columns</p>\n",
       "</div>"
      ],
      "text/plain": [
       "                    review_id                 user_id             business_id  \\\n",
       "55     z-6ElnK3yXpn2oNKR7NYtw  OSsqq7CzBdAbF7E6kZHd0g  bZiIIUcpgxh8mpKMDhdqbA   \n",
       "173    6S8Z94QXR4uEJfpZGB7Y4Q  F38RIDfENOia72iiIE4G6Q  bZiIIUcpgxh8mpKMDhdqbA   \n",
       "363    DfEMNwInleUx4ubGkY1_zg  3574xsnjNk9QlOEcDuwpaQ  bZiIIUcpgxh8mpKMDhdqbA   \n",
       "734    c0qU03M_xINuEiqXrF-QCQ  pLpnFEdjWHRsMip-cBE7fw  bZiIIUcpgxh8mpKMDhdqbA   \n",
       "781    YjmclnjoZ9KDV2_SKaTpVQ  R4idbf8eTSFuWwW8gBx6bg  bZiIIUcpgxh8mpKMDhdqbA   \n",
       "...                       ...                     ...                     ...   \n",
       "48799  fgh49aVJYlZhA1IjzFZ6sQ  9X5pT-l-mada_gFkW6auFQ  bZiIIUcpgxh8mpKMDhdqbA   \n",
       "48863  Sk6BvUQCCqCDxlFJyevP-w  bHNCpXfV1AljGfpF_liYhA  bZiIIUcpgxh8mpKMDhdqbA   \n",
       "48915  PDne7BS4pe8ATQefL1MJTg  trG7qHQzLTnzJxWn87kurA  bZiIIUcpgxh8mpKMDhdqbA   \n",
       "49470  T75EcC9ou0Kk8jbQiYG31A  cbZSH1JBhyfbOh8HIq8UAQ  bZiIIUcpgxh8mpKMDhdqbA   \n",
       "49481  PfBtnOdIQrIlisUlVc7vyQ  RXRMSgN7udYc8z4Zzq3sCA  bZiIIUcpgxh8mpKMDhdqbA   \n",
       "\n",
       "       stars  useful  funny  cool  \\\n",
       "55       3.0       0      0     0   \n",
       "173      4.0       0      0     0   \n",
       "363      4.0       0      0     0   \n",
       "734      5.0       0      0     0   \n",
       "781      4.0       0      0     0   \n",
       "...      ...     ...    ...   ...   \n",
       "48799    5.0       0      0     0   \n",
       "48863    4.0       0      0     0   \n",
       "48915    5.0       0      0     0   \n",
       "49470    4.0       0      0     0   \n",
       "49481    1.0       0      0     0   \n",
       "\n",
       "                                                    text                 date  \\\n",
       "55     My husband and I shared the parmesan truffly f...  2017-10-11 00:25:47   \n",
       "173    This place is good! You have to stop and try i...  2013-04-10 17:19:45   \n",
       "363    Almost always busy, always fantastic and worth...  2013-12-28 22:05:12   \n",
       "734    Wow.  Amazing hamburgers.   First visit.  Than...  2018-10-04 18:13:58   \n",
       "781    Popped in one night about an hour before Closi...  2014-04-01 03:43:56   \n",
       "...                                                  ...                  ...   \n",
       "48799  The Ahi burger is sushi grade tuna that has be...  2014-04-20 21:21:56   \n",
       "48863  Everything is good here! Burgers and drinks ar...  2015-07-04 18:58:47   \n",
       "48915  This is my favorite burger place for a basic b...  2016-01-05 23:50:50   \n",
       "49470  Amazing burgers!!! Service was great and fast,...  2017-11-19 18:09:19   \n",
       "49481  I returned because I have heard good things an...  2017-10-25 17:19:04   \n",
       "\n",
       "                                               embedding  \n",
       "55     [-0.008172041736543179, -0.026068199425935745,...  \n",
       "173    [0.008694560267031193, 0.031420063227415085, -...  \n",
       "363    [0.006152917630970478, -0.058552827686071396, ...  \n",
       "734    [0.03460768610239029, -0.03287480026483536, -0...  \n",
       "781    [-0.030987374484539032, -0.06430681049823761, ...  \n",
       "...                                                  ...  \n",
       "48799  [0.017288856208324432, -0.06663403660058975, 0...  \n",
       "48863  [-0.06854645162820816, -0.0693291574716568, 0....  \n",
       "48915  [0.046158116310834885, -0.07063821703195572, -...  \n",
       "49470  [-0.0028716837987303734, -0.058753836899995804...  \n",
       "49481  [0.0034343902952969074, -0.06470411270856857, ...  \n",
       "\n",
       "[366 rows x 10 columns]"
      ]
     },
     "execution_count": 14,
     "metadata": {},
     "output_type": "execute_result"
    }
   ],
   "source": [
    "mostpopRest"
   ]
  },
  {
   "cell_type": "code",
   "execution_count": 22,
   "metadata": {},
   "outputs": [
    {
     "data": {
      "text/plain": [
       "<AxesSubplot:>"
      ]
     },
     "execution_count": 22,
     "metadata": {},
     "output_type": "execute_result"
    },
    {
     "data": {
      "image/png": "[encoded data removed]",
      "text/plain": [
       "<Figure size 432x288 with 1 Axes>"
      ]
     },
     "metadata": {
      "needs_background": "light"
     },
     "output_type": "display_data"
    }
   ],
   "source": [
    "revDist = mostpopRest['stars'].value_counts()\n",
    "revDist.plot(kind='bar')"
   ]
  },
  {
   "cell_type": "code",
   "execution_count": 24,
   "metadata": {},
   "outputs": [
    {
     "name": "stdout",
     "output_type": "stream",
     "text": [
      "2jjiN433yEVA9EI_yyOB0A    1\n",
      "jbEEMwW0gjCfuc1qRmXtmA    1\n",
      "zlVIu-rzTGLGqHczkpNMSw    1\n",
      "E8CtartuSj9_N4z7tF9lfw    1\n",
      "CbPJ2X4IuRYvdlBNuBpPlQ    1\n",
      "                         ..\n",
      "WM2NwnX8ZIBxP8eHyZdOQQ    1\n",
      "230JECPQhAhnO_8xIkwC-w    1\n",
      "T0ZxZzWjKruqoZhI0YK0aw    1\n",
      "mK0OG-2w1ZbFaPXOOVcIkA    1\n",
      "j47AtuDSGacgjuQugEcAPA    1\n",
      "Name: user_id, Length: 366, dtype: int64\n"
     ]
    }
   ],
   "source": [
    "freqRev = mostpopRest['user_id'].value_counts()\n",
    "print(freqRev)"
   ]
  },
  {
   "cell_type": "code",
   "execution_count": 26,
   "metadata": {},
   "outputs": [],
   "source": [
    "# timeSP = mostpopRest.plot.scatter(\n",
    "#     x=mostpopRest['date'],\n",
    "#     y=mostpopRest['stars'],\n",
    "#     c='DarkBlue'\n",
    "# )\n",
    "timeSP = mostpopRest.set_index(pd.DatetimeIndex(mostpopRest['date']))"
   ]
  },
  {
   "cell_type": "code",
   "execution_count": 31,
   "metadata": {},
   "outputs": [
    {
     "data": {
      "text/plain": [
       "<AxesSubplot:xlabel='date', ylabel='stars'>"
      ]
     },
     "execution_count": 31,
     "metadata": {},
     "output_type": "execute_result"
    },
    {
     "data": {
      "image/png": "[encoded data removed]",
      "text/plain": [
       "<Figure size 432x288 with 1 Axes>"
      ]
     },
     "metadata": {
      "needs_background": "light"
     },
     "output_type": "display_data"
    }
   ],
   "source": [
    "timeSP.plot.scatter(x='date', y='stars')"
   ]
  },
  {
   "cell_type": "code",
   "execution_count": null,
   "metadata": {},
   "outputs": [],
   "source": []
  }
 ],
 "metadata": {
  "kernelspec": {
   "display_name": "Python 3",
   "language": "python",
   "name": "python3"
  },
  "language_info": {
   "codemirror_mode": {
    "name": "ipython",
    "version": 3
   },
   "file_extension": ".py",
   "mimetype": "text/x-python",
   "name": "python",
   "nbconvert_exporter": "python",
   "pygments_lexer": "ipython3",
   "version": "3.8.5"
  }
 },
 "nbformat": 4,
 "nbformat_minor": 4
}
